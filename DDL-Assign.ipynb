{
    "metadata": {
        "kernelspec": {
            "name": "SQL",
            "display_name": "SQL",
            "language": "sql"
        },
        "language_info": {
            "name": "sql",
            "version": ""
        }
    },
    "nbformat_minor": 2,
    "nbformat": 4,
    "cells": [
        {
            "cell_type": "markdown",
            "source": [
                "**DDL Diagram**"
            ],
            "metadata": {
                "azdata_cell_guid": "ea25aa8d-c7c7-46cc-a9f7-5e5951de3a64"
            },
            "attachments": {}
        },
        {
            "cell_type": "markdown",
            "source": [
                "![](C:\\Users\\Jayvy_nei0kss\\OneDrive\\Documents\\GitHub\\DataMart\\DDL.drawio.png)\r\n",
                ""
            ],
            "metadata": {
                "azdata_cell_guid": "0761ea08-0bed-49e8-a831-405a686b38e3",
                "language": ""
            },
            "attachments": {}
        },
        {
            "cell_type": "markdown",
            "source": [
                "**\\# Data Mart Creation and Data Loading**\n",
                "\n",
                "\\## DDL (Table Builds)\n",
                "\n",
                "\\### Schema Creation\n",
                "\n",
                "**Explanation: Creating the required schemas for dimensions and facts.**"
            ],
            "metadata": {
                "azdata_cell_guid": "e14143f9-c75a-495c-8f67-aebb56e997ef"
            },
            "attachments": {}
        },
        {
            "cell_type": "code",
            "source": [
                "  \n",
                "\n",
                "-- SQL code for creating schemas\n",
                "\n",
                "IF NOT EXISTS (SELECT * FROM sys.schemas WHERE name = 'dim')\n",
                "BEGIN\n",
                "    EXEC sp_executesql N'CREATE SCHEMA dim AUTHORIZATION dbo;';\n",
                "END;\n",
                "\n",
                "IF NOT EXISTS (SELECT * FROM sys.schemas WHERE name = 'stg')\n",
                "BEGIN\n",
                "    EXEC sp_executesql N'CREATE SCHEMA stg AUTHORIZATION dbo;';\n",
                "END;\n",
                "\n",
                "IF NOT EXISTS (SELECT * FROM sys.schemas WHERE name = 'f')\n",
                "BEGIN\n",
                "    EXEC sp_executesql N'CREATE SCHEMA f AUTHORIZATION dbo;';\n",
                "END;\n",
                ""
            ],
            "metadata": {
                "azdata_cell_guid": "8b32d1d3-11ad-4038-8b85-da2437d821a9",
                "language": "sql"
            },
            "outputs": [
                {
                    "output_type": "display_data",
                    "data": {
                        "text/html": "Commands completed successfully."
                    },
                    "metadata": {}
                },
                {
                    "output_type": "display_data",
                    "data": {
                        "text/html": "Total execution time: 00:00:00.009"
                    },
                    "metadata": {}
                }
            ],
            "execution_count": 19
        },
        {
            "cell_type": "markdown",
            "source": [
                "**Customer Dimension Table**\n",
                "\n",
                "**\\*\\*Explanation:\\*\\***\n",
                "\n",
                "**Creating the Customer dimension table.**"
            ],
            "metadata": {
                "azdata_cell_guid": "cea9791b-c326-4463-bb3f-0af66154071b"
            },
            "attachments": {}
        },
        {
            "cell_type": "code",
            "source": [
                "-- SQL code for creating dim.Customers table\n",
                "\n",
                "IF NOT EXISTS (SELECT 1 FROM INFORMATION_SCHEMA.TABLES WHERE TABLE_SCHEMA = 'dim' AND TABLE_NAME = 'Customers')\n",
                "BEGIN\n",
                "    CREATE TABLE dim.Customers (\n",
                "        pkCustomer int IDENTITY(1000,1) NOT NULL,\n",
                "        CustomerID nvarchar(5) NOT NULL,\n",
                "        Customer nvarchar(40) NOT NULL,\n",
                "        City nvarchar(15) NULL,\n",
                "        Country nvarchar(15) NULL,\n",
                "        LoadDate DATE NOT NULL,\n",
                "        SourceCountry nvarchar(25) NULL\n",
                "    );\n",
                "\n",
                "    -- Add constraints\n",
                "    ALTER TABLE dim.Customers\n",
                "    ADD CONSTRAINT PK_Customers_LUP PRIMARY KEY(pkCustomer);\n",
                "\n",
                "    ALTER TABLE dim.Customers\n",
                "    ADD CONSTRAINT UC_Customers_ID UNIQUE (CustomerID);\n",
                "END\n",
                ""
            ],
            "metadata": {
                "azdata_cell_guid": "41e42ef1-840a-4415-a08b-9f1762309fa2",
                "language": "sql"
            },
            "outputs": [
                {
                    "output_type": "display_data",
                    "data": {
                        "text/html": "Commands completed successfully."
                    },
                    "metadata": {}
                },
                {
                    "output_type": "display_data",
                    "data": {
                        "text/html": "Total execution time: 00:00:00.025"
                    },
                    "metadata": {}
                }
            ],
            "execution_count": 20
        },
        {
            "cell_type": "markdown",
            "source": [
                "**Employee Dimension Table**"
            ],
            "metadata": {
                "azdata_cell_guid": "a52847e1-0ae9-4763-90cd-309eee3e179e"
            },
            "attachments": {}
        },
        {
            "cell_type": "code",
            "source": [
                "-- SQL code for creating dim.Employees table\r\n",
                "\r\n",
                "IF NOT EXISTS (SELECT 1 FROM INFORMATION_SCHEMA.TABLES WHERE TABLE_SCHEMA = 'dim' AND TABLE_NAME = 'Employees')\r\n",
                "BEGIN\r\n",
                "    CREATE TABLE dim.Employees (\r\n",
                "        EmployeeID int IDENTITY(1000,1) NOT NULL,\r\n",
                "        Employee nvarchar(40) NOT NULL,\r\n",
                "        Title nvarchar(50) NULL,\r\n",
                "        BirthDate DATE NULL,\r\n",
                "        HireDate DATE NULL,\r\n",
                "        City nvarchar(15) NULL,\r\n",
                "        Country nvarchar(15) NULL,\r\n",
                "        ReportsTo int NULL -- Assuming ReportsTo is a foreign key referencing EmployeeID\r\n",
                "    );\r\n",
                "\r\n",
                "    -- Add constraints\r\n",
                "    ALTER TABLE dim.Employees\r\n",
                "    ADD CONSTRAINT PK_Employees PRIMARY KEY (EmployeeID);\r\n",
                "    \r\n",
                "    -- Assuming ReportsTo is a foreign key referencing EmployeeID\r\n",
                "    ALTER TABLE dim.Employees\r\n",
                "    ADD CONSTRAINT FK_Employees_ReportsTo\r\n",
                "        FOREIGN KEY (ReportsTo)\r\n",
                "        REFERENCES dim.Employees(EmployeeID);\r\n",
                "END\r\n",
                ""
            ],
            "metadata": {
                "azdata_cell_guid": "65ec7f23-2f9a-4b8a-8a06-aa3c87a2dda0",
                "language": "sql"
            },
            "outputs": [
                {
                    "output_type": "display_data",
                    "data": {
                        "text/html": "Commands completed successfully."
                    },
                    "metadata": {}
                },
                {
                    "output_type": "display_data",
                    "data": {
                        "text/html": "Total execution time: 00:00:00.012"
                    },
                    "metadata": {}
                }
            ],
            "execution_count": 21
        },
        {
            "cell_type": "markdown",
            "source": [
                "**Calendar Dimension Table**  \n",
                "<span style=\"white-space-collapse: preserve; color: rgb(55, 65, 81); font-family: Söhne, ui-sans-serif, system-ui, -apple-system, &quot;Segoe UI&quot;, Roboto, Ubuntu, Cantarell, &quot;Noto Sans&quot;, sans-serif, &quot;Helvetica Neue&quot;, Arial, &quot;Apple Color Emoji&quot;, &quot;Segoe UI Emoji&quot;, &quot;Segoe UI Symbol&quot;, &quot;Noto Color Emoji&quot;; font-size: 16px;\"><b>Explanation: Creating the Calendar dimension table.</b></span>"
            ],
            "metadata": {
                "azdata_cell_guid": "c555ff91-a745-40e7-a6e8-41cc224c78d7"
            },
            "attachments": {}
        },
        {
            "cell_type": "code",
            "source": [
                "-- SQL code for creating dim.Calendar table\n",
                "\n",
                "IF NOT EXISTS (SELECT 1 FROM INFORMATION_SCHEMA.TABLES WHERE TABLE_SCHEMA = 'dim' AND TABLE_NAME = 'Calendar')\n",
                "BEGIN\n",
                "    CREATE TABLE dim.Calendar\n",
                "    (\n",
                "        pkCalendar INT NOT NULL,\n",
                "        DateValue DATE NOT NULL,\n",
                "        Year INT NOT NULL,\n",
                "        Quarter INT NOT NULL,\n",
                "        Qtr VARCHAR(3) NOT NULL,\n",
                "        Month INT NOT NULL,\n",
                "        MonthName VARCHAR(10) NOT NULL,\n",
                "        MonthShort VARCHAR(3) NOT NULL,\n",
                "        Week INT NOT NULL,\n",
                "        Day INT NOT NULL,\n",
                "        DayName VARCHAR(10) NOT NULL,\n",
                "        DayShort VARCHAR(3) NOT NULL,\n",
                "        IsWeekday BIT NOT NULL,\n",
                "        Weekday VARCHAR(3) NOT NULL\n",
                "    );\n",
                "\n",
                "    -- Add constraints\n",
                "    ALTER TABLE dim.Calendar\n",
                "    ADD CONSTRAINT PK_Calendar_Julian PRIMARY KEY (pkCalendar);\n",
                "\n",
                "    ALTER TABLE dim.Calendar\n",
                "    ADD CONSTRAINT UC_Calendar UNIQUE (DateValue);\n",
                "END\n",
                ""
            ],
            "metadata": {
                "azdata_cell_guid": "81ed62ba-6d96-4908-ad9f-c415ce249567",
                "language": "sql"
            },
            "outputs": [
                {
                    "output_type": "display_data",
                    "data": {
                        "text/html": "Commands completed successfully."
                    },
                    "metadata": {}
                },
                {
                    "output_type": "display_data",
                    "data": {
                        "text/html": "Total execution time: 00:00:00.011"
                    },
                    "metadata": {}
                }
            ],
            "execution_count": 22
        },
        {
            "cell_type": "markdown",
            "source": [
                "**\\*\\*Shipper Dimension Table**\n",
                "\n",
                "**Explanation:- Creating the shipper dimension table.\\*\\***"
            ],
            "metadata": {
                "azdata_cell_guid": "ff83b9b2-a94d-4515-8917-76e5b7115a11"
            },
            "attachments": {}
        },
        {
            "cell_type": "code",
            "source": [
                "-- SQL code for creating dim.Shipper table\n",
                "\n",
                "IF NOT EXISTS (SELECT 1 FROM INFORMATION_SCHEMA.TABLES WHERE TABLE_SCHEMA = 'dim' AND TABLE_NAME = 'Shipper')\n",
                "BEGIN\n",
                "    CREATE TABLE dim.Shipper\n",
                "    (\n",
                "        pkShipId int not null,\n",
                "        Shipper nvarchar(40) not null,\n",
                "        Phone nvarchar(24) null\n",
                "    );\n",
                "\n",
                "    -- Add constraints\n",
                "    ALTER TABLE dim.Shipper\n",
                "    ADD CONSTRAINT PK_Ship PRIMARY KEY(pkShipId);\n",
                "END\n",
                ""
            ],
            "metadata": {
                "azdata_cell_guid": "0239726e-e841-421c-893d-c564b633e3d0",
                "language": "sql"
            },
            "outputs": [
                {
                    "output_type": "display_data",
                    "data": {
                        "text/html": "Commands completed successfully."
                    },
                    "metadata": {}
                },
                {
                    "output_type": "display_data",
                    "data": {
                        "text/html": "Total execution time: 00:00:00.010"
                    },
                    "metadata": {}
                }
            ],
            "execution_count": 23
        },
        {
            "cell_type": "markdown",
            "source": [
                "**OrderPerf Fact Table**\n",
                "\n",
                "**Explanation- Creating the OrderPerf fact table.**"
            ],
            "metadata": {
                "azdata_cell_guid": "3d719edb-bb3c-4518-b8bb-e49a8ffaff8a"
            },
            "attachments": {}
        },
        {
            "cell_type": "code",
            "source": [
                "-- SQL code for creating f.OrderPerf table\n",
                "\n",
                "\n",
                "    ALTER TABLE f.OrderPerf\n",
                "DROP CONSTRAINT FK_ORDtoEMP;\n",
                "IF EXISTS (SELECT 1 FROM INFORMATION_SCHEMA.TABLES WHERE TABLE_SCHEMA = 'f' AND TABLE_NAME = 'OrderPerf')\n",
                "BEGIN\n",
                "    DROP TABLE f.OrderPerf;\n",
                "END\n",
                "\n",
                "CREATE TABLE f.OrderPerf(\n",
                "    OrderID int NOT NULL,\n",
                "    fkCalendar int NOT NULL,\n",
                "    fkCustomer int NOT NULL,\n",
                "    fkShipper int NULL,\n",
                "    fkEmployee int NULL,\n",
                "    Freight money NOT NULL,\n",
                "    DaysToShip int NULL,\n",
                "    DaysTilRequired int NULL,\n",
                "    OrderCount int NOT NULL\n",
                ");\n",
                "\n",
                "-- Add constraints\n",
                "\n",
                "ALTER TABLE f.OrderPerf\n",
                "ADD CONSTRAINT PK_ORD PRIMARY KEY(OrderID);\n",
                "\n",
                "ALTER TABLE f.OrderPerf\n",
                "ADD CONSTRAINT FK_ORDtoCAL\n",
                "    FOREIGN KEY (fkCalendar)        \n",
                "    REFERENCES dim.Calendar(pkCalendar);\n",
                "\n",
                "ALTER TABLE f.OrderPerf\n",
                "ADD CONSTRAINT FK_ORDtoCUST\n",
                "    FOREIGN KEY (fkCustomer)        \n",
                "    REFERENCES dim.Customers(pkCustomer);\n",
                "\n",
                "ALTER TABLE f.OrderPerf\n",
                "ADD CONSTRAINT FK_ORDtoSHIP\n",
                "    FOREIGN KEY (fkShipper)\n",
                "    REFERENCES dim.Shipper(pkShipId);\n",
                "\n",
                "ALTER TABLE f.OrderPerf\n",
                "ADD CONSTRAINT FK_ORDtoEMP\n",
                "    FOREIGN KEY (fkEmployee)\n",
                "    REFERENCES dim.Employees(EmployeeID);\n",
                "\n",
                "\n",
                ""
            ],
            "metadata": {
                "azdata_cell_guid": "b7842a1a-1715-4dd1-a956-eabb7933e08a",
                "language": "sql"
            },
            "outputs": [
                {
                    "output_type": "display_data",
                    "data": {
                        "text/html": "Commands completed successfully."
                    },
                    "metadata": {}
                },
                {
                    "output_type": "display_data",
                    "data": {
                        "text/html": "Total execution time: 00:00:00.036"
                    },
                    "metadata": {}
                }
            ],
            "execution_count": 24
        },
        {
            "cell_type": "markdown",
            "source": [
                "# **DATA LOADING SCRIPT**"
            ],
            "metadata": {
                "azdata_cell_guid": "1589ba2f-eb90-4b01-9b5d-8d1e0ae75926"
            },
            "attachments": {}
        },
        {
            "cell_type": "markdown",
            "source": [
                "**Loading Data Into dim.Customers**\n",
                "\n",
                "**Explanation- Loading data into the customer dimension table.**"
            ],
            "metadata": {
                "azdata_cell_guid": "e28c35ba-3b99-440b-86d6-37ce55530d82"
            },
            "attachments": {}
        },
        {
            "cell_type": "code",
            "source": [
                "-- SQL code for loading data into dim.Customers\n",
                "\n",
                "INSERT INTO dim.Customers (CustomerID, Customer, City, Country, LoadDate, SourceCountry)\n",
                "SELECT nwc.CustomerID, nwc.CompanyName, nwc.City, nwc.Country, CAST(GETDATE() AS DATE), CONCAT('Country = ', nwc.Country)\n",
                "FROM [Northwind_2023].[dbo].[Customers] nwc\n",
                "WHERE nwc.CustomerID NOT IN (SELECT CustomerID FROM dim.Customers);\n",
                ""
            ],
            "metadata": {
                "azdata_cell_guid": "9d7d2789-4b92-4bf2-8466-20fa3b3fe651",
                "language": "sql"
            },
            "outputs": [
                {
                    "output_type": "display_data",
                    "data": {
                        "text/html": "(0 rows affected)"
                    },
                    "metadata": {}
                },
                {
                    "output_type": "display_data",
                    "data": {
                        "text/html": "Total execution time: 00:00:00.009"
                    },
                    "metadata": {}
                }
            ],
            "execution_count": 25
        },
        {
            "cell_type": "markdown",
            "source": [
                "**Loading Data into dim.Calendar**  \n",
                "**Explanation- Loading data into the Customer dimension table.**"
            ],
            "metadata": {
                "azdata_cell_guid": "3a52888b-c43f-4f82-af05-6b8d5dc300d5"
            },
            "attachments": {}
        },
        {
            "cell_type": "code",
            "source": [
                "IF (SELECT count(*) FROM dim.Calendar) = 0\n",
                "BEGIN\n",
                "-- Declare variables\n",
                "DECLARE @StartDate DATE = '2020-01-01'\n",
                "DECLARE @EndDate DATE = DATEADD(year, 0, GETDATE())\n",
                "DECLARE @Date DATE = @StartDate\n",
                "DECLARE @DayID INT = (datepart(year, @StartDate)-1900)*1000 + datepart(dy, @StartDate)\n",
                ";\n",
                "\n",
                "\n",
                "-- Populate the Calendar table\n",
                "WHILE @Date <= @EndDate\n",
                "\tBEGIN\n",
                "\t\tINSERT INTO dim.Calendar (pkCalendar, DateValue, Year, Quarter, Qtr, Month,  MonthName, MonthShort, Week, Day, DayName, DayShort, IsWeekday, Weekday)\n",
                "\t\tVALUES (\n",
                "\t\t\t@DayID,\n",
                "\t\t\t@Date,\n",
                "\t\t\tYEAR(@Date),\n",
                "\t\t\tDATEPART(QUARTER, @Date),\n",
                "\t\t\tCASE WHEN DATEPART(QUARTER, @Date) IN (1) THEN '1st'\n",
                "\t\t\t\t WHEN DATEPART(QUARTER, @Date) IN (2) THEN '2nd'\n",
                "\t\t\t\t WHEN DATEPART(QUARTER, @Date) IN (3) THEN '3rd'\n",
                "\t\t\t\t WHEN DATEPART(QUARTER, @Date) IN (4) THEN '4th'\n",
                "\t\t\t\t ELSE '5th'\n",
                "\t\t\t\t END,\n",
                "\t\t\tMONTH(@Date),\n",
                "\t\t\tDATENAME(MONTH, @Date),\n",
                "\t\t\tLEFT(DATENAME(MONTH, @Date),3),\n",
                "\t\t\tDATEPART(WEEK, @Date),\n",
                "\t\t\tDAY(@Date),\n",
                "\t\t\tDATENAME(WEEKDAY, @Date),\n",
                "\t\t\tLEFT(DATENAME(WEEKDAY, @Date),3),\n",
                "\t\t\tCASE WHEN DATEPART(WEEKDAY, @Date) IN (1, 7) THEN 0 ELSE 1 END, -- Set IsWeekday to 0 for Saturday (1) and Sunday (7), and 1 for weekdays\n",
                "\t\t\tCASE WHEN DATEPART(WEEKDAY, @Date) IN (1, 7) THEN 'No' ELSE 'Yes' END\n",
                "\t )\n",
                "\n",
                "\t\t-- Increment the date and day ID\n",
                "\t\tSET @Date = DATEADD(DAY, 1, @Date)\n",
                "\t\tSET @DayID = @DayID + 1\n",
                "\tEND\n",
                "END\n",
                "GO"
            ],
            "metadata": {
                "azdata_cell_guid": "5917ec4d-7342-4880-b7cc-50e28654ebd7",
                "language": "sql"
            },
            "outputs": [
                {
                    "output_type": "display_data",
                    "data": {
                        "text/html": "Commands completed successfully."
                    },
                    "metadata": {}
                },
                {
                    "output_type": "display_data",
                    "data": {
                        "text/html": "Total execution time: 00:00:00.002"
                    },
                    "metadata": {}
                }
            ],
            "execution_count": 26
        }
    ]
}